{
 "cells": [
  {
   "cell_type": "code",
   "execution_count": 200,
   "metadata": {},
   "outputs": [
    {
     "name": "stdout",
     "output_type": "stream",
     "text": [
      "C:\\Users\\Chandrapal Panwar\n"
     ]
    }
   ],
   "source": [
    "import os\n",
    "import json\n",
    "import pandas as pd\n",
    "from datetime import datetime\n",
    "import numpy as np\n",
    "import logging\n",
    "logging.basicConfig(filename='app.log', filemode='w', format='%(name)s - %(levelname)s - %(message)s')\n",
    "from multiprocessing import Process\n",
    "print (os.getcwd())\n",
    "default_path='C:/Users/Chandrapal Panwar'\n",
    "os.chdir(default_path)\n",
    "delim = \"\\n\"\n",
    "with open('input.txt','w') as f:\n",
    "    for a in range(1,100001):\n",
    "        f.write(\"%d%s\" % (a,delim))\n",
    "    f.close()"
   ]
  },
  {
   "cell_type": "code",
   "execution_count": 201,
   "metadata": {},
   "outputs": [],
   "source": [
    "\n",
    "df = pd.read_csv('input.txt', header=None)\n",
    "df.columns = ['ran_int'] \n",
    "\n",
    "df1 = pd.read_csv('input.txt', header=None)\n",
    "df1.columns = ['ran_int'] "
   ]
  },
  {
   "cell_type": "code",
   "execution_count": 202,
   "metadata": {},
   "outputs": [],
   "source": [
    "df['ran_int']=pd.to_numeric(df['ran_int'])\n",
    "df1['ran_int']=pd.to_numeric(df1['ran_int'])\n"
   ]
  },
  {
   "cell_type": "code",
   "execution_count": 203,
   "metadata": {},
   "outputs": [],
   "source": [
    "filename=\"number.txt\"\n",
    "if filename:\n",
    "    with open(filename,'r') as f:\n",
    "        datastore=json.load(f)\n",
    "        n=int(datastore[\"number\"])\n"
   ]
  },
  {
   "cell_type": "code",
   "execution_count": 204,
   "metadata": {},
   "outputs": [],
   "source": [
    "def multi(df,number):\n",
    "    start_time = datetime.now()\n",
    "    df['ran_int']=n*df1['ran_int']\n",
    "    a = np.arange(len(df1))\n",
    "    df = df[(a % 100 == 1)]\n",
    "    end_time = datetime.now()\n",
    "    Time_multiplication=end_time-start_time\n",
    "    df.to_csv('data_multiplication.csv', encoding='utf-8')\n",
    "    file = open(\"logging.log\", \"a\")\n",
    "    file.write(\"%s = %s\\n\" %(\"Time taken for multiplication\",Time_multiplication))\n",
    "    file.close()\n",
    "    return ()"
   ]
  },
  {
   "cell_type": "code",
   "execution_count": 205,
   "metadata": {},
   "outputs": [],
   "source": [
    "def cum_add(df1):\n",
    "    start_time = datetime.now()\n",
    "    df1['add']=df1['ran_int']+df1['ran_int'].shift(-1)\n",
    "    a = np.arange(len(df1))\n",
    "    df1 = df1[(a % 100 == 1)]\n",
    "    end_time = datetime.now()\n",
    "    Time_addition=end_time-start_time\n",
    "    df1.to_csv('data_cum_addition.csv', encoding='utf-8')\n",
    "    file = open(\"logging.log\", \"a\")\n",
    "    file.write(\"%s = %s\\n\" %(\"Time taken for cumulitative addition\",Time_addition))\n",
    "    file.close()    \n",
    "    return ()"
   ]
  },
  {
   "cell_type": "code",
   "execution_count": 206,
   "metadata": {},
   "outputs": [],
   "source": [
    "def runInParallel(*fns):\n",
    "    proc = []\n",
    "    for fn in fns:\n",
    "        p = Process(target=fn)\n",
    "        p.start()\n",
    "        proc.append(p)\n",
    "    for p in proc:\n",
    "        p.join()"
   ]
  },
  {
   "cell_type": "code",
   "execution_count": 207,
   "metadata": {},
   "outputs": [],
   "source": [
    "runInParallel(multi(df,n),cum_add(df1))"
   ]
  }
 ],
 "metadata": {
  "kernelspec": {
   "display_name": "Python 3",
   "language": "python",
   "name": "python3"
  },
  "language_info": {
   "codemirror_mode": {
    "name": "ipython",
    "version": 3
   },
   "file_extension": ".py",
   "mimetype": "text/x-python",
   "name": "python",
   "nbconvert_exporter": "python",
   "pygments_lexer": "ipython3",
   "version": "3.8.5"
  }
 },
 "nbformat": 4,
 "nbformat_minor": 4
}
