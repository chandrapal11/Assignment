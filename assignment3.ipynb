{
 "cells": [
  {
   "cell_type": "code",
   "execution_count": 12,
   "metadata": {},
   "outputs": [],
   "source": [
    "import spacy\n",
    "from spacy import displacy\n",
    "NER = spacy.load(\"en_core_web_sm\")\n",
    "nlp=spacy.load(\"en_core_web_md\")"
   ]
  },
  {
   "cell_type": "code",
   "execution_count": 13,
   "metadata": {},
   "outputs": [],
   "source": [
    "file = open(\"C:/Users/Chandrapal Panwar/Desktop/personal_information.txt\",\"r\")"
   ]
  },
  {
   "cell_type": "code",
   "execution_count": 14,
   "metadata": {},
   "outputs": [],
   "source": [
    "def print_sensitive(file):\n",
    "    doc=nlp(file.read())\n",
    "    result=[]\n",
    "    for sent in doc.sents:\n",
    "        text1=NER(sent.text)\n",
    "        for word in text1.ents:\n",
    "            print (word ,\"sensitive information\" ,word.label_)\n",
    "            result.append(word.label_)        \n",
    "    return(result)"
   ]
  },
  {
   "cell_type": "code",
   "execution_count": 15,
   "metadata": {},
   "outputs": [],
   "source": [
    "def check_sensitivity(result,file):\n",
    "    result=set(result)\n",
    "    sen_words=['PERSON', 'GPE','DATE']\n",
    "    if len(list(set(result).intersection(set(sen_words))))>=2:\n",
    "        print (\"Document\", file ,\"is having Sensitive information\")\n",
    "        doc=nlp(file.read())\n",
    "        for sent in doc.sents:\n",
    "            text1=NER(sent.text)\n",
    "            displacy.render(text1,style=\"ent\",jupyter=True)        \n",
    "    else:\n",
    "        print (\"Document\", file ,\"is not having Sensitive information\")\n",
    "    return()   "
   ]
  },
  {
   "cell_type": "code",
   "execution_count": null,
   "metadata": {},
   "outputs": [],
   "source": [
    "get_res=[]\n",
    "get_res=print_sensitive(file)\n",
    "Sensty=check_sensitivity(get_res,file)"
   ]
  },
  {
   "cell_type": "code",
   "execution_count": null,
   "metadata": {},
   "outputs": [],
   "source": [
    "import spacy\n",
    "from spacy import displacy\n",
    "NER = spacy.load(\"en_core_web_sm\")\n",
    "file = open(\"C:/Users/Chandrapal Panwar/personal_information.txt\",\"r\")\n",
    "doc=nlp(file.read())\n",
    "for sent in doc.sents:\n",
    "    text1=NER(sent.text)\n",
    "    displacy.render(text1,style=\"ent\",jupyter=True) "
   ]
  },
  {
   "cell_type": "code",
   "execution_count": null,
   "metadata": {},
   "outputs": [],
   "source": []
  }
 ],
 "metadata": {
  "kernelspec": {
   "display_name": "Python 3",
   "language": "python",
   "name": "python3"
  },
  "language_info": {
   "codemirror_mode": {
    "name": "ipython",
    "version": 3
   },
   "file_extension": ".py",
   "mimetype": "text/x-python",
   "name": "python",
   "nbconvert_exporter": "python",
   "pygments_lexer": "ipython3",
   "version": "3.8.5"
  }
 },
 "nbformat": 4,
 "nbformat_minor": 4
}
