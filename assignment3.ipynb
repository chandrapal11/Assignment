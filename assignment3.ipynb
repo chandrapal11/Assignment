{
 "cells": [
  {
   "cell_type": "code",
   "execution_count": 12,
   "metadata": {},
   "outputs": [],
   "source": [
    "import spacy\n",
    "from spacy import displacy\n",
    "NER = spacy.load(\"en_core_web_sm\")\n",
    "nlp=spacy.load(\"en_core_web_md\")"
   ]
  },
  {
   "cell_type": "code",
   "execution_count": 13,
   "metadata": {},
   "outputs": [],
   "source": [
    "file = open(\"C:/Users/Chandrapal Panwar/personal_information.txt\",\"r\")"
   ]
  },
  {
   "cell_type": "code",
   "execution_count": 14,
   "metadata": {},
   "outputs": [],
   "source": [
    "def print_sensitive(file):\n",
    "    doc=nlp(file.read())\n",
    "    result=[]\n",
    "    for sent in doc.sents:\n",
    "        text1=NER(sent.text)\n",
    "        for word in text1.ents:\n",
    "            print (word ,\"sensitive information\" ,word.label_)\n",
    "            result.append(word.label_)        \n",
    "    return(result)"
   ]
  },
  {
   "cell_type": "code",
   "execution_count": 15,
   "metadata": {},
   "outputs": [],
   "source": [
    "def check_sensitivity(result,file):\n",
    "    result=set(result)\n",
    "    sen_words=['PERSON', 'GPE','DATE']\n",
    "    if len(list(set(result).intersection(set(sen_words))))>=2:\n",
    "        print (\"Document\", file ,\"is having Sensitive information\")\n",
    "        doc=nlp(file.read())\n",
    "        for sent in doc.sents:\n",
    "            text1=NER(sent.text)\n",
    "            displacy.render(text1,style=\"ent\",jupyter=True)        \n",
    "    else:\n",
    "        print (\"Document\", file ,\"is not having Sensitive information\")\n",
    "    return()   "
   ]
  },
  {
   "cell_type": "code",
   "execution_count": 16,
   "metadata": {},
   "outputs": [
    {
     "name": "stdout",
     "output_type": "stream",
     "text": [
      "Switzerland sensitive information GPE\n",
      "2014 sensitive information DATE\n",
      "more than 10,000 sensitive information CARDINAL\n",
      "German sensitive information NORP\n",
      "French sensitive information NORP\n",
      "Italian sensitive information NORP\n",
      "2014 sensitive information DATE\n",
      "the Federal Statistical Office sensitive information ORG\n",
      "FSO sensitive information ORG\n",
      "German sensitive information NORP\n",
      "2012 sensitive information DATE\n",
      "French sensitive information NORP\n",
      "Villes sensitive information ORG\n",
      "2012 sensitive information DATE\n",
      "character.[1 sensitive information ORG\n",
      "FSO sensitive information ORG\n",
      "162 sensitive information CARDINAL\n",
      "German sensitive information NORP\n",
      "French sensitive information NORP\n",
      "Villes sensitive information ORG\n",
      "Switzerland sensitive information GPE\n",
      "German sensitive information NORP\n",
      "French sensitive information NORP\n",
      "Italian sensitive information NORP\n",
      "Document <_io.TextIOWrapper name='C:/Users/Chandrapal Panwar/personal_information.txt' mode='r' encoding='cp1252'> is having Sensitive information\n"
     ]
    }
   ],
   "source": [
    "get_res=[]\n",
    "get_res=print_sensitive(file)\n",
    "Sensty=check_sensitivity(get_res,file)"
   ]
  },
  {
   "cell_type": "code",
   "execution_count": 11,
   "metadata": {},
   "outputs": [
    {
     "data": {
      "text/html": [
       "<span class=\"tex2jax_ignore\"><div class=\"entities\" style=\"line-height: 2.5; direction: ltr\">I am \n",
       "<mark class=\"entity\" style=\"background: #aa9cfc; padding: 0.45em 0.6em; margin: 0 0.25em; line-height: 1; border-radius: 0.35em;\">\n",
       "    chandrapal Panwar\n",
       "    <span style=\"font-size: 0.8em; font-weight: bold; line-height: 1; border-radius: 0.35em; vertical-align: middle; margin-left: 0.5rem\">PERSON</span>\n",
       "</mark>\n",
       " and I live in Rishikesh.</div></span>"
      ],
      "text/plain": [
       "<IPython.core.display.HTML object>"
      ]
     },
     "metadata": {},
     "output_type": "display_data"
    },
    {
     "name": "stderr",
     "output_type": "stream",
     "text": [
      "C:\\Users\\Chandrapal Panwar\\Anaconda3\\lib\\site-packages\\spacy\\displacy\\__init__.py:205: UserWarning: [W006] No entities to visualize found in Doc object. If this is surprising to you, make sure the Doc was processed using a model that supports named entity recognition, and check the `doc.ents` property manually if necessary.\n",
      "  warnings.warn(Warnings.W006)\n"
     ]
    },
    {
     "data": {
      "text/html": [
       "<span class=\"tex2jax_ignore\"><div class=\"entities\" style=\"line-height: 2.5; direction: ltr\"></br>I completed my engg from G.B.Pant Engg college Rishikesh.</div></span>"
      ],
      "text/plain": [
       "<IPython.core.display.HTML object>"
      ]
     },
     "metadata": {},
     "output_type": "display_data"
    },
    {
     "data": {
      "text/html": [
       "<span class=\"tex2jax_ignore\"><div class=\"entities\" style=\"line-height: 2.5; direction: ltr\"></br>My dob is \n",
       "<mark class=\"entity\" style=\"background: #bfe1d9; padding: 0.45em 0.6em; margin: 0 0.25em; line-height: 1; border-radius: 0.35em;\">\n",
       "    15/08/1985\n",
       "    <span style=\"font-size: 0.8em; font-weight: bold; line-height: 1; border-radius: 0.35em; vertical-align: middle; margin-left: 0.5rem\">DATE</span>\n",
       "</mark>\n",
       ".</div></span>"
      ],
      "text/plain": [
       "<IPython.core.display.HTML object>"
      ]
     },
     "metadata": {},
     "output_type": "display_data"
    },
    {
     "data": {
      "text/html": [
       "<span class=\"tex2jax_ignore\"><div class=\"entities\" style=\"line-height: 2.5; direction: ltr\"></br>My friend Akash is my school friend and live in \n",
       "<mark class=\"entity\" style=\"background: #feca74; padding: 0.45em 0.6em; margin: 0 0.25em; line-height: 1; border-radius: 0.35em;\">\n",
       "    Dehradun\n",
       "    <span style=\"font-size: 0.8em; font-weight: bold; line-height: 1; border-radius: 0.35em; vertical-align: middle; margin-left: 0.5rem\">GPE</span>\n",
       "</mark>\n",
       ".</div></span>"
      ],
      "text/plain": [
       "<IPython.core.display.HTML object>"
      ]
     },
     "metadata": {},
     "output_type": "display_data"
    },
    {
     "data": {
      "text/html": [
       "<span class=\"tex2jax_ignore\"><div class=\"entities\" style=\"line-height: 2.5; direction: ltr\"></br>\n",
       "<mark class=\"entity\" style=\"background: #7aecec; padding: 0.45em 0.6em; margin: 0 0.25em; line-height: 1; border-radius: 0.35em;\">\n",
       "    Vivek\n",
       "    <span style=\"font-size: 0.8em; font-weight: bold; line-height: 1; border-radius: 0.35em; vertical-align: middle; margin-left: 0.5rem\">ORG</span>\n",
       "</mark>\n",
       " is also my friend live in Tehri garhwal and D.O.B 17/May/1986.</br></div></span>"
      ],
      "text/plain": [
       "<IPython.core.display.HTML object>"
      ]
     },
     "metadata": {},
     "output_type": "display_data"
    }
   ],
   "source": [
    "import spacy\n",
    "from spacy import displacy\n",
    "NER = spacy.load(\"en_core_web_sm\")\n",
    "file = open(\"C:/Users/Chandrapal Panwar/personal_information.txt\",\"r\")\n",
    "doc=nlp(file.read())\n",
    "for sent in doc.sents:\n",
    "    text1=NER(sent.text)\n",
    "    displacy.render(text1,style=\"ent\",jupyter=True) "
   ]
  },
  {
   "cell_type": "code",
   "execution_count": null,
   "metadata": {},
   "outputs": [],
   "source": []
  }
 ],
 "metadata": {
  "kernelspec": {
   "display_name": "Python 3",
   "language": "python",
   "name": "python3"
  },
  "language_info": {
   "codemirror_mode": {
    "name": "ipython",
    "version": 3
   },
   "file_extension": ".py",
   "mimetype": "text/x-python",
   "name": "python",
   "nbconvert_exporter": "python",
   "pygments_lexer": "ipython3",
   "version": "3.8.5"
  }
 },
 "nbformat": 4,
 "nbformat_minor": 4
}
